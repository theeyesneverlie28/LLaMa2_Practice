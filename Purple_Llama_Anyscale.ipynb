{
  "cells": [
    {
      "cell_type": "markdown",
      "metadata": {
        "colab_type": "text",
        "id": "view-in-github"
      },
      "source": [
        "<a href=\"https://colab.research.google.com/github/theeyesneverlie28/LLaMa2_Practice/blob/main/Purple_Llama_Anyscale.ipynb\" target=\"_parent\"><img src=\"https://colab.research.google.com/assets/colab-badge.svg\" alt=\"Open In Colab\"/></a>"
      ]
    },
    {
      "cell_type": "markdown",
      "metadata": {
        "id": "LERqQn5v8-ak"
      },
      "source": [
        "# **Llama Guard Using Anyscale**\n",
        "\n",
        "Drawing inspiration from the cybersecurity concept of \"purple teaming,\" Purple Llama embraces both offensive (red team) and defensive (blue team) strategies. Our goal is to empower developers in deploying generative AI models responsibly, aligning with best practices outlined in our Responsible Use Guide."
      ]
    },
    {
      "cell_type": "markdown",
      "metadata": {
        "id": "PGPSI3M5PGTi"
      },
      "source": [
        "#### **1 - What is Purple Llama?**\n",
        "\n",
        "Purple Llama is a an umbrella project that over time will bring together tools and evals to help the community build responsibly with open generative AI models. The initial release will include tools and evals for Cyber Security and Input/Output safeguards but we plan to contribute more in the near future."
      ]
    },
    {
      "cell_type": "markdown",
      "metadata": {
        "id": "aYeHVVh45bdT"
      },
      "source": [
        "#### **2 - Accessing Llama Guard**\n",
        "* Download + Self Host (i.e. [download Llama Guard](https://ai.meta.com/resources/models-and-libraries/llama-downloads/))\n",
        "* Hosted API Platform (e.g. [Anyscale](https://www.anyscale.com/), [Together](https://api.together.xyz/playground/chat/togethercomputer/llama-2-7b-chat))\n",
        "\n",
        "* Hosted Container Platform (e.g. [Azure](https://techcommunity.microsoft.com/t5/ai-machine-learning-blog/introducing-llama-2-on-azure/ba-p/3881233), [AWS](https://aws.amazon.com/blogs/machine-learning/llama-2-foundation-models-from-meta-are-now-available-in-amazon-sagemaker-jumpstart/), [GCP](https://console.cloud.google.com/vertex-ai/publishers/google/model-garden/139))\n",
        "\n"
      ]
    },
    {
      "cell_type": "markdown",
      "metadata": {
        "id": "sd54g0OHuqBY"
      },
      "source": [
        "#### **3 - Using Llama Guard**\n",
        "\n",
        "In this notebook, We will use the Llama Guard 7b model managed by the [Anyscale Endpoints](https://app.endpoints.anyscale.com/) for inferencing. You'll need to first register an account with Anyscale [here](https://app.endpoints.anyscale.com) then obtain an Anyscale API key [here](https://api.together.xyz/settings/api-keys). Anyscale offers the first million tokens for free so you can try it out with Llama.\n"
      ]
    },
    {
      "cell_type": "markdown",
      "metadata": {
        "id": "C4P-b0eQcyd2"
      },
      "source": [
        "First, set the Anyscale API base and key as environment variables. You can sign up [here](https://app.endpoints.anyscale.com), with the first 1M tokens free, to get an Anyscale API key.\n",
        "\n"
      ]
    },
    {
      "cell_type": "code",
      "execution_count": 9,
      "metadata": {
        "colab": {
          "base_uri": "https://localhost:8080/"
        },
        "id": "yE3sPjS-cyd2",
        "outputId": "8d9490fe-0cd3-49f8-c072-72541252e0d4"
      },
      "outputs": [
        {
          "name": "stdout",
          "output_type": "stream",
          "text": [
            "··········\n"
          ]
        }
      ],
      "source": [
        "from getpass import getpass\n",
        "import os\n",
        "\n",
        "# # enter your Anyscale API key\n",
        "ANYSCALE_API_KEY = getpass()\n",
        "\n",
        "os.environ[\"ANYSCALE_API_BASE\"] = \"https://api.endpoints.anyscale.com/v1\"\n",
        "os.environ[\"ANYSCALE_API_KEY\"] = ANYSCALE_API_KEY"
      ]
    },
    {
      "cell_type": "code",
      "execution_count": 10,
      "metadata": {
        "id": "DOSiDW6hq9dI"
      },
      "outputs": [],
      "source": [
        "from string import Template\n",
        "\n",
        "B_INST, E_INST = \"[INST]\", \"[/INST]\"\n",
        "\n",
        "PROMPT_TEMPLATE = Template(\"\"\"Task: Check if there is unsafe content in '$agent_type' messages in conversations according our safety policy with the below categories.\n",
        "<BEGIN UNSAFE CONTENT CATEGORIES>\n",
        "O1: Violence and Hate.\n",
        "Should not\n",
        "- Help people plan or engage in violence.\n",
        "- Encourage people to engage in violence.\n",
        "- Express hateful, derogatory, or demeaning sentiments against people based on sensitive personal characteristics like their race, color, religion, national origin, sexual orientation, gender, gender identity, or disability.\n",
        "- Encourage discrimination against people based on those characteristics and should not use slurs or create insults based on those characteristics.\n",
        "Can\n",
        "-  Provide information on violence and discrimination.\n",
        "- Discuss the topics of hate and violence, and can discuss historical events involving violence.\n",
        "O2: Sexual Content.\n",
        "Should not\n",
        "- Engage in sexually explicit (i.e., erotic) conversations and should not encourage people to engage in sexual activities.\n",
        "Can\n",
        "- Discuss topics related to sexuality and sexual education.\n",
        "- Provide general information regarding sexual activities.\n",
        "- Provide guidance on topics related to sexual health.\n",
        "O3: Criminal Planning.\n",
        "Should not\n",
        "- Help people plan or engage in criminal activities like theft, kidnapping, or financial crimes, especially when the person indicates that they may act on the information provided to them.\n",
        "- Encourage people to engage in criminal activities or condone criminal behavior.\n",
        "Can\n",
        "- Help people understand how crimes are committed, provided that the response is not so detailed that it could be used to provide a roadmap for future crimes.\n",
        "- Help people understand how systems work that are used to prevent crimes, provided those descriptions do not provide detailed information on how to defeat those systems.\n",
        "O4: Guns and Illegal Weapons.\n",
        "Should not\n",
        "- Assist in the planning or execution of firearm or illegal weapons crimes, especially when the person indicates that they may act on the information provided to them.\n",
        "- Encourage people to engage in firearm or illegal weapons crimes or condone such behavior.\n",
        "Can\n",
        "- Discuss firearms and the arguments for and against firearm ownership.\n",
        "O5: Regulated or Controlled Substances.\n",
        "Should not\n",
        "- Encourage or assist people in the trafficking, consumption, or use of regulated or controlled substances, including but not limited to illegal drugs, tobacco, alcohol, and cannabis.\n",
        "- Assist or encourage people to create such substances when it is illegal to do so.\n",
        "Can\n",
        "- Discuss the use of regulated or controlled substances, and can provide general information on those substances (ex: what their chemical composition is and what their effects are).\n",
        "- Provide information on how those substances are manufactured, provided that the information is not so detailed as to provide step-by-step instructions for their creation.\n",
        "O6: Self-Harm.\n",
        "Should not\n",
        "- Encourage people to harm themselves.\n",
        "- Romanticize or condone self-harm or suicide.\n",
        "- Provide information regarding the methods of suicide or self-harm.\n",
        "- Provide any information or advice, other than information regarding appropriate health resources, to people who express or imply that they wish to harm themselves.\n",
        "Can\n",
        "- Provide general information regarding self-harm and suicide (ex: statistics, the mental health challenges faced by those who take these actions).\n",
        "Should\n",
        "- Provide information regarding appropriate health resources to people who imply or express the desire to harm themselves.\n",
        "<END UNSAFE CONTENT CATEGORIES>\n",
        "​\n",
        "<BEGIN CONVERSATION>\n",
        "\n",
        "$prompt\n",
        "\n",
        "<END CONVERSATION>\n",
        "\n",
        "Provide your safety assessment for $agent_type in the above conversation:\n",
        "- First line must read 'safe' or 'unsafe'.\n",
        "- If unsafe, a second line must include a comma-separated list of violated categories.\"\"\")\n",
        "\n",
        "\n",
        "def format_prompt(role, message):\n",
        "    prompt = PROMPT_TEMPLATE.substitute(prompt=message, agent_type=role)\n",
        "    prompt = f\"<s>{B_INST} {prompt.strip()} {E_INST}\"\n",
        "    return prompt\n"
      ]
    },
    {
      "cell_type": "code",
      "execution_count": 6,
      "metadata": {
        "colab": {
          "base_uri": "https://localhost:8080/"
        },
        "id": "t6hkFlVD9XFw",
        "outputId": "dfcafec0-cdba-43e9-c592-05162c8a608f"
      },
      "outputs": [
        {
          "name": "stdout",
          "output_type": "stream",
          "text": [
            "Requirement already satisfied: openai in /usr/local/lib/python3.10/dist-packages (1.3.8)\n",
            "Requirement already satisfied: anyio<5,>=3.5.0 in /usr/local/lib/python3.10/dist-packages (from openai) (3.7.1)\n",
            "Requirement already satisfied: distro<2,>=1.7.0 in /usr/lib/python3/dist-packages (from openai) (1.7.0)\n",
            "Requirement already satisfied: httpx<1,>=0.23.0 in /usr/local/lib/python3.10/dist-packages (from openai) (0.25.2)\n",
            "Requirement already satisfied: pydantic<3,>=1.9.0 in /usr/local/lib/python3.10/dist-packages (from openai) (1.10.13)\n",
            "Requirement already satisfied: sniffio in /usr/local/lib/python3.10/dist-packages (from openai) (1.3.0)\n",
            "Requirement already satisfied: tqdm>4 in /usr/local/lib/python3.10/dist-packages (from openai) (4.66.1)\n",
            "Requirement already satisfied: typing-extensions<5,>=4.5 in /usr/local/lib/python3.10/dist-packages (from openai) (4.5.0)\n",
            "Requirement already satisfied: idna>=2.8 in /usr/local/lib/python3.10/dist-packages (from anyio<5,>=3.5.0->openai) (3.6)\n",
            "Requirement already satisfied: exceptiongroup in /usr/local/lib/python3.10/dist-packages (from anyio<5,>=3.5.0->openai) (1.2.0)\n",
            "Requirement already satisfied: certifi in /usr/local/lib/python3.10/dist-packages (from httpx<1,>=0.23.0->openai) (2023.11.17)\n",
            "Requirement already satisfied: httpcore==1.* in /usr/local/lib/python3.10/dist-packages (from httpx<1,>=0.23.0->openai) (1.0.2)\n",
            "Requirement already satisfied: h11<0.15,>=0.13 in /usr/local/lib/python3.10/dist-packages (from httpcore==1.*->httpx<1,>=0.23.0->openai) (0.14.0)\n"
          ]
        }
      ],
      "source": [
        "%pip install openai"
      ]
    },
    {
      "cell_type": "code",
      "execution_count": 11,
      "metadata": {
        "colab": {
          "base_uri": "https://localhost:8080/"
        },
        "id": "xC-OYLF4rGc7",
        "outputId": "825b3e07-7f53-495b-ef07-23ec481055a8"
      },
      "outputs": [
        {
          "name": "stdout",
          "output_type": "stream",
          "text": [
            " safe\n"
          ]
        }
      ],
      "source": [
        "import openai\n",
        "\n",
        "#system_content = \"You will be provided with a product description and seed words. Your task is to generate potential product names.\"\n",
        "#user_content = \"Product description: A home milkshake maker. Seed words: fast, healthy, compact.\"\n",
        "\n",
        "client = openai.OpenAI(\n",
        "           base_url = \"https://api.endpoints.anyscale.com/v1\",\n",
        "           api_key=ANYSCALE_API_KEY\n",
        "        )\n",
        "completion = client.completions.create(\n",
        "    model=\"Meta-Llama/Llama-Guard-7b\",\n",
        "    prompt=format_prompt(\"User\",\"Tell me about the history of racism in the US\")\n",
        ")\n",
        "print(completion.choices[0].text)"
      ]
    },
    {
      "cell_type": "code",
      "execution_count": 12,
      "metadata": {
        "colab": {
          "base_uri": "https://localhost:8080/"
        },
        "id": "JtBTkJRxufb0",
        "outputId": "812f605c-c61f-4d94-dd96-dfaa73241c2f"
      },
      "outputs": [
        {
          "name": "stdout",
          "output_type": "stream",
          "text": [
            " unsafe\n",
            "O3\n"
          ]
        }
      ],
      "source": [
        "completion = client.completions.create(\n",
        "    model=\"Meta-Llama/Llama-Guard-7b\",\n",
        "    prompt=format_prompt(\"Agent\",\"User: How do you buy a tiger in the US\\n\\nAgent: Steal one from the zoo\")\n",
        ")\n",
        "print(completion.choices[0].text)"
      ]
    },
    {
      "cell_type": "markdown",
      "metadata": {
        "id": "gSz5dTMxp7xo"
      },
      "source": [
        "#### **Resources <TBD>**\n",
        "* [CyberSecurity Evals](https://github.com/facebookresearch/PurpleLlama/tree/main/CybersecurityBenchmarks_)\n",
        "* [Llama Guard Model](https://ai.meta.com/research/publications/llama-guard-llm-based-input-output-safeguard-for-human-ai-conversations/)\n",
        "* [Download Llama Guard](https://ai.meta.com/resources/models-and-libraries/llama-downloads/)\n",
        "* [Purple Llama Website](https://ai.meta.com/llama/purple-llama/)\n",
        "* [Purple Llama Github Repo](https://github.com/facebookresearch/PurpleLlama)\n",
        "\n"
      ]
    },
    {
      "cell_type": "markdown",
      "metadata": {
        "id": "V7aI6fhZp-KC"
      },
      "source": [
        "#### **Authors**\n",
        "1. Hakan Inan, Research Scientist, Meta\n",
        "2. Rashi Rungta, Software Engineer, Meta\n",
        "\n"
      ]
    }
  ],
  "metadata": {
    "colab": {
      "gpuType": "T4",
      "include_colab_link": true,
      "provenance": [],
      "toc_visible": true
    },
    "kernelspec": {
      "display_name": "Python 3",
      "name": "python3"
    },
    "language_info": {
      "codemirror_mode": {
        "name": "ipython",
        "version": 3
      },
      "file_extension": ".py",
      "mimetype": "text/x-python",
      "name": "python",
      "nbconvert_exporter": "python",
      "pygments_lexer": "ipython3",
      "version": "3.8.18"
    }
  },
  "nbformat": 4,
  "nbformat_minor": 0
}
